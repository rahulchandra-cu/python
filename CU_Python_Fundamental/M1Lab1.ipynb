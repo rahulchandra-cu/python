{
  "nbformat": 4,
  "nbformat_minor": 0,
  "metadata": {
    "colab": {
      "name": "M1Lab1.ipynb",
      "provenance": []
    },
    "kernelspec": {
      "name": "python3",
      "display_name": "Python 3"
    },
    "language_info": {
      "name": "python"
    }
  },
  "cells": [
    {
      "cell_type": "markdown",
      "metadata": {
        "id": "cnAUJprJdh9_"
      },
      "source": [
        "# Welcome to our first Lab Practice!\n"
      ]
    },
    {
      "cell_type": "markdown",
      "metadata": {
        "id": "vVYcayGedmms"
      },
      "source": [
        "This lab is all about print() and we are going to print various messages on the screen. Are you ready? Let's get started!"
      ]
    },
    {
      "cell_type": "markdown",
      "metadata": {
        "id": "JP8eGBVyeSQx"
      },
      "source": [
        "You will find some small tasks in sections below. You should use print() and a proper choice of quotation marks to print the **message** on the screen."
      ]
    },
    {
      "cell_type": "markdown",
      "metadata": {
        "id": "TNbXeCDFeAcJ"
      },
      "source": [
        "## Single quotations ' '"
      ]
    },
    {
      "cell_type": "markdown",
      "metadata": {
        "id": "EZ42d1Sue0Zp"
      },
      "source": [
        "###Task: print message **Hello, world!**"
      ]
    },
    {
      "cell_type": "code",
      "metadata": {
        "id": "yDzNIHsSeu85",
        "colab": {
          "base_uri": "https://localhost:8080/"
        },
        "outputId": "c1ad3fa2-da66-43b8-897c-cd8085a16aa0"
      },
      "source": [
        "# type your code here\n",
        "print('Hello, world!')"
      ],
      "execution_count": 1,
      "outputs": [
        {
          "output_type": "stream",
          "name": "stdout",
          "text": [
            "Hello, world!\n"
          ]
        }
      ]
    },
    {
      "cell_type": "markdown",
      "metadata": {
        "id": "-__o8ovbfSEH"
      },
      "source": [
        "###Task: print message **\"Hello, world!\"**\n",
        "\n",
        "Note: the **\" \"** is part of the message and it should be included in the message printed out."
      ]
    },
    {
      "cell_type": "code",
      "metadata": {
        "id": "hOpxhSKog18Y",
        "colab": {
          "base_uri": "https://localhost:8080/"
        },
        "outputId": "264df23a-de17-4dd6-8c12-12825cafa70f"
      },
      "source": [
        "# your code will be here\n",
        "print('\"Hello, world!\"')"
      ],
      "execution_count": 2,
      "outputs": [
        {
          "output_type": "stream",
          "name": "stdout",
          "text": [
            "\"Hello, world!\"\n"
          ]
        }
      ]
    },
    {
      "cell_type": "markdown",
      "metadata": {
        "id": "NpCNxK68gpME"
      },
      "source": [
        "###Task: print message **\"How are you?\"**\n",
        "\n",
        "Note: the **\" \"** is part of the message and it should be included in the message printed out."
      ]
    },
    {
      "cell_type": "code",
      "metadata": {
        "id": "txg-7uKfgKeW",
        "colab": {
          "base_uri": "https://localhost:8080/"
        },
        "outputId": "32e6b531-144a-4d46-f8f2-09d25715ae07"
      },
      "source": [
        "# your code will be here\n",
        "print('\"How are you?\"')"
      ],
      "execution_count": 3,
      "outputs": [
        {
          "output_type": "stream",
          "name": "stdout",
          "text": [
            "\"How are you?\"\n"
          ]
        }
      ]
    },
    {
      "cell_type": "markdown",
      "metadata": {
        "id": "D8pWdoN7d6Dy"
      },
      "source": [
        "## Double quotations \" \""
      ]
    },
    {
      "cell_type": "markdown",
      "metadata": {
        "id": "rXgbUIBRgQoG"
      },
      "source": [
        "###Task: print message **Hello, world!** (using \" \")"
      ]
    },
    {
      "cell_type": "code",
      "metadata": {
        "id": "oIKwmW2mfe3d",
        "colab": {
          "base_uri": "https://localhost:8080/"
        },
        "outputId": "c48eba42-ecef-4e34-926c-681bd885f194"
      },
      "source": [
        "# your code will be here\n",
        "print(\"Hello, world!\")"
      ],
      "execution_count": 4,
      "outputs": [
        {
          "output_type": "stream",
          "name": "stdout",
          "text": [
            "Hello, world!\n"
          ]
        }
      ]
    },
    {
      "cell_type": "markdown",
      "metadata": {
        "id": "QPoCScdkheK3"
      },
      "source": [
        "###Task: print message **I'm fine.**"
      ]
    },
    {
      "cell_type": "code",
      "metadata": {
        "id": "tsFowDAKhJCB",
        "colab": {
          "base_uri": "https://localhost:8080/"
        },
        "outputId": "ff8ff489-409f-47b1-a8ec-35df75733a3d"
      },
      "source": [
        "# your code will be here\n",
        "print(\"I\\'m fine.\")"
      ],
      "execution_count": 5,
      "outputs": [
        {
          "output_type": "stream",
          "name": "stdout",
          "text": [
            "I'm fine.\n"
          ]
        }
      ]
    },
    {
      "cell_type": "markdown",
      "metadata": {
        "id": "TE6Df1WYhu10"
      },
      "source": [
        "###Task: print message **It's a great day!**"
      ]
    },
    {
      "cell_type": "code",
      "metadata": {
        "id": "MSjQbhNXhJVV",
        "colab": {
          "base_uri": "https://localhost:8080/"
        },
        "outputId": "65e59e26-8db8-42a1-877f-ad4fd966b28f"
      },
      "source": [
        "# your code will be here\n",
        "print(\"It\\'s a great day!\")"
      ],
      "execution_count": 6,
      "outputs": [
        {
          "output_type": "stream",
          "name": "stdout",
          "text": [
            "It's a great day!\n"
          ]
        }
      ]
    },
    {
      "cell_type": "markdown",
      "metadata": {
        "id": "0dZCPuYjeDqi"
      },
      "source": [
        "## Triple quotations ''' '''"
      ]
    },
    {
      "cell_type": "markdown",
      "metadata": {
        "id": "f-zusksziv_N"
      },
      "source": [
        "###Task: print the poem below\n",
        "\n",
        "**This**\n",
        "\n",
        "**is**\n",
        "\n",
        "**a**\n",
        "\n",
        "**poem**"
      ]
    },
    {
      "cell_type": "code",
      "metadata": {
        "id": "rVF4T_pwhKMM"
      },
      "source": [
        "# your code will be here\n"
      ],
      "execution_count": 7,
      "outputs": []
    },
    {
      "cell_type": "markdown",
      "metadata": {
        "id": "yls-7KE6kA7o"
      },
      "source": [
        "###Task: print the paragraph below\n",
        "\n",
        "**This is a multi-line**\n",
        "\n",
        "**documentary. It consists**\n",
        "\n",
        "**several sentences and**\n",
        "\n",
        "**might be pages long.**"
      ]
    },
    {
      "cell_type": "code",
      "metadata": {
        "id": "ZZ1XEd29kAIR"
      },
      "source": [
        "# your code will be here"
      ],
      "execution_count": 8,
      "outputs": []
    },
    {
      "cell_type": "markdown",
      "metadata": {
        "id": "DsOakqGCeK7V"
      },
      "source": [
        "## Combinations of quotations"
      ]
    },
    {
      "cell_type": "markdown",
      "metadata": {
        "id": "4iCITSR6h7Yv"
      },
      "source": [
        "###Task: print the dialog below\n",
        "\n",
        "**\"How are you?\"**\n",
        "\n",
        "**\"I'm fine.\"**\n",
        "\n",
        "**\"It's a great day!\"**"
      ]
    },
    {
      "cell_type": "code",
      "metadata": {
        "id": "EKsuK9O6jW7D",
        "colab": {
          "base_uri": "https://localhost:8080/"
        },
        "outputId": "24aaaab5-7b26-4cce-bcb3-ab0b25964d16"
      },
      "source": [
        "# your code will be here\n",
        "\n",
        "print('''\n",
        "\n",
        "\"How are you?\"\n",
        "\n",
        "\"I'm fine.\"\n",
        "\n",
        "\"It's a great day!\"\n",
        "\n",
        "\n",
        "\n",
        "''')"
      ],
      "execution_count": 9,
      "outputs": [
        {
          "output_type": "stream",
          "name": "stdout",
          "text": [
            "\n",
            "\n",
            "\"How are you?\"\n",
            "\n",
            "\"I'm fine.\"\n",
            "\n",
            "\"It's a great day!\"\n",
            "\n",
            "\n",
            "\n",
            "\n"
          ]
        }
      ]
    }
  ]
}