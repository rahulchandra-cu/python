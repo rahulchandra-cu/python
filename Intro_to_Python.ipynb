{
  "nbformat": 4,
  "nbformat_minor": 0,
  "metadata": {
    "colab": {
      "provenance": [],
      "authorship_tag": "ABX9TyPt9rDl0uPsdyBmUxfbFxLC",
      "include_colab_link": true
    },
    "kernelspec": {
      "name": "python3",
      "display_name": "Python 3"
    },
    "language_info": {
      "name": "python"
    }
  },
  "cells": [
    {
      "cell_type": "markdown",
      "metadata": {
        "id": "view-in-github",
        "colab_type": "text"
      },
      "source": [
        "<a href=\"https://colab.research.google.com/github/rahulchandra-cu/python/blob/main/Intro_to_Python.ipynb\" target=\"_parent\"><img src=\"https://colab.research.google.com/assets/colab-badge.svg\" alt=\"Open In Colab\"/></a>"
      ]
    },
    {
      "cell_type": "markdown",
      "source": [
        "**Print**\n",
        "\n",
        "\n",
        "*   '' and \"\" for passing parameter\n",
        "*    \\ for escape to print ' or \"\" or \\\n",
        "*    \\n for new line.\n",
        "\n",
        "\n",
        "\n"
      ],
      "metadata": {
        "id": "YETNcyd5a4GU"
      }
    },
    {
      "cell_type": "code",
      "execution_count": null,
      "metadata": {
        "colab": {
          "base_uri": "https://localhost:8080/"
        },
        "id": "Hh5y-aMIW2xb",
        "outputId": "459af372-9a4e-4881-e46b-92b3f9c83b05"
      },
      "outputs": [
        {
          "output_type": "stream",
          "name": "stdout",
          "text": [
            "I'm OK\n"
          ]
        }
      ],
      "source": [
        "print(\"I'm OK\")"
      ]
    },
    {
      "cell_type": "code",
      "source": [
        "print('I\\'m OK')"
      ],
      "metadata": {
        "id": "uDFfBaSOZukP",
        "outputId": "899e0385-86d5-471c-d83a-576c4a8449e0",
        "colab": {
          "base_uri": "https://localhost:8080/"
        }
      },
      "execution_count": 3,
      "outputs": [
        {
          "output_type": "stream",
          "name": "stdout",
          "text": [
            "I'm OK\n"
          ]
        }
      ]
    },
    {
      "cell_type": "code",
      "source": [
        "print('Hello \\n I\\'m OK')"
      ],
      "metadata": {
        "id": "PTJQXaFKajEQ",
        "outputId": "2eff054c-5912-45be-80b7-cea62f6544d1",
        "colab": {
          "base_uri": "https://localhost:8080/"
        }
      },
      "execution_count": 4,
      "outputs": [
        {
          "output_type": "stream",
          "name": "stdout",
          "text": [
            "Hello \n",
            " I'm OK\n"
          ]
        }
      ]
    },
    {
      "cell_type": "markdown",
      "source": [],
      "metadata": {
        "id": "S7Lhx5eLa1hm"
      }
    },
    {
      "cell_type": "code",
      "source": [
        "print('Hello \\\\ \\n I\\'m OK \\\" ')"
      ],
      "metadata": {
        "id": "frg9ySsbavJq",
        "outputId": "405e641d-f9eb-4ced-e339-fe8657b52490",
        "colab": {
          "base_uri": "https://localhost:8080/"
        }
      },
      "execution_count": 5,
      "outputs": [
        {
          "output_type": "stream",
          "name": "stdout",
          "text": [
            "Hello \\ \n",
            " I'm OK \" \n"
          ]
        }
      ]
    },
    {
      "cell_type": "code",
      "source": [
        "print(\"Hello\")"
      ],
      "metadata": {
        "colab": {
          "base_uri": "https://localhost:8080/"
        },
        "id": "0p4T52ckW523",
        "outputId": "c5e75767-76d3-47d3-b764-bc915e293342"
      },
      "execution_count": null,
      "outputs": [
        {
          "output_type": "stream",
          "name": "stdout",
          "text": [
            "Hello\n"
          ]
        }
      ]
    }
  ]
}